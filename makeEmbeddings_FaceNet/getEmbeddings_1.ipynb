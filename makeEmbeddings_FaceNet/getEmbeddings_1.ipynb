{
 "cells": [
  {
   "cell_type": "markdown",
   "metadata": {},
   "source": [
    "# Notebook for generating the FaceNet-based face embeddings from a folder in a given path"
   ]
  },
  {
   "cell_type": "code",
   "execution_count": null,
   "metadata": {
    "collapsed": true
   },
   "outputs": [],
   "source": [
    "import os\n",
    "import tensorflow as tf\n",
    "from align import detect_face\n",
    "import facenet\n",
    "import cv2\n",
    "import imutils\n",
    "import numpy as np\n",
    "from tqdm import tqdm_notebook\n",
    "\n",
    "#important for tf to grab the appropriate ammount of memory and not crash cuda\n",
    "\n",
    "config = tf.ConfigProto()\n",
    "config.gpu_options.allow_growth = True\n",
    "session = tf.Session(config=config)\n",
    "\n",
    "# some image preprocessing constants kept as default from facenet\n",
    "minsize = 20\n",
    "threshold = [0.6, 0.7, 0.7]\n",
    "factor = 0.709\n",
    "margin = 44\n",
    "input_image_size = 160"
   ]
  },
  {
   "cell_type": "code",
   "execution_count": null,
   "metadata": {
    "collapsed": true
   },
   "outputs": [],
   "source": [
    "def getFace(img):\n",
    "    faces = []\n",
    "    img_size = np.asarray(img.shape)[0:2]\n",
    "    bounding_boxes, points = detect_face.detect_face(img, minsize, pnet, rnet, onet, threshold, factor)\n",
    "    if not len(bounding_boxes) == 0:\n",
    "        for face in bounding_boxes:\n",
    "            if face[4] > 0.50:\n",
    "                det = np.squeeze(face[0:4])\n",
    "                bb = np.zeros(4, dtype=np.int32)\n",
    "                bb[0] = np.maximum(det[0] - margin / 2, 0)\n",
    "                bb[1] = np.maximum(det[1] - margin / 2, 0)\n",
    "                bb[2] = np.minimum(det[2] + margin / 2, img_size[1])\n",
    "                bb[3] = np.minimum(det[3] + margin / 2, img_size[0])\n",
    "                cropped = img[bb[1]:bb[3], bb[0]:bb[2], :]\n",
    "                resized = cv2.resize(cropped, (input_image_size,input_image_size),interpolation=cv2.INTER_CUBIC)\n",
    "                prewhitened = facenet.prewhiten(resized)\n",
    "                faces.append({'face':resized,'rect':[bb[0],bb[1],bb[2],bb[3]],'embedding':getEmbedding(prewhitened)})\n",
    "    return faces\n",
    "\n",
    "def getEmbedding(resized):\n",
    "    \n",
    "    reshaped = resized.reshape(-1,input_image_size,input_image_size,3)\n",
    "    feed_dict = {images_placeholder: reshaped, phase_train_placeholder: False}\n",
    "    # print(feed_dict)\n",
    "    embedding = sess.run(embeddings, feed_dict=feed_dict)\n",
    "    return embedding"
   ]
  },
  {
   "cell_type": "code",
   "execution_count": null,
   "metadata": {},
   "outputs": [],
   "source": [
    "sess = tf.Session()\n",
    "# read pnet, rnet, onet models from align directory and files are det1.npy, det2.npy, det3.npy\n",
    "pnet, rnet, onet = detect_face.create_mtcnn(sess, 'align')\n",
    "\n",
    "# read 20170512-110547 model file downloaded from https://drive.google.com/file/d/0B5MzpY9kBtDVZ2RpVDYwWmxoSUk\n",
    "facenet.load_model(\"20170512-110547/20170512-110547.pb\")\n",
    "# facenet.load_model(\"20180408-102900/20180408-102900.pb\") (this is the newer model, produces 512-dim embeddings)\n",
    "\n",
    "# Get input and output tensors\n",
    "images_placeholder = tf.get_default_graph().get_tensor_by_name(\"input:0\")\n",
    "embeddings = tf.get_default_graph().get_tensor_by_name(\"embeddings:0\")\n",
    "phase_train_placeholder = tf.get_default_graph().get_tensor_by_name(\"phase_train:0\")\n",
    "embedding_size = embeddings.get_shape()[1]"
   ]
  },
  {
   "cell_type": "markdown",
   "metadata": {},
   "source": [
    "# for general purpose embeddings making"
   ]
  },
  {
   "cell_type": "markdown",
   "metadata": {},
   "source": [
    "# change selection to the variable of interest; give path"
   ]
  },
  {
   "cell_type": "code",
   "execution_count": null,
   "metadata": {
    "collapsed": true
   },
   "outputs": [],
   "source": [
    "selection = YourPATH ##### give path to the folder containing your images here #####\n",
    "\n",
    "imgsNew = [os.path.join(selection, i) for i in os.listdir(selection)]\n",
    "\n",
    "descs = [i.split('.')[0] for i in os.listdir(selection)]"
   ]
  },
  {
   "cell_type": "code",
   "execution_count": null,
   "metadata": {},
   "outputs": [],
   "source": [
    "bar = tqdm_notebook([(d,i) for d,i in zip(descs, imgsNew)])\n",
    "\n",
    "embdsComposites = dict()\n",
    "failedHere = list()\n",
    "\n",
    "for case, i in bar:\n",
    "    \n",
    "    try:\n",
    "        img = cv2.imread(i)\n",
    "        img = imutils.resize(img,width=1000)\n",
    "        faces = getFace(img)\n",
    "\n",
    "        tmpE = None\n",
    "    except:\n",
    "        print('Failed case: {}'.format(case))\n",
    "        failedHere.append(case)        \n",
    "        continue\n",
    "\n",
    "    for face in faces:\n",
    "                \n",
    "        tmpE = face['embedding']\n",
    "        embdsComposites[case] = tmpE\n",
    "    "
   ]
  },
  {
   "cell_type": "markdown",
   "metadata": {},
   "source": [
    "# show failed cases"
   ]
  },
  {
   "cell_type": "code",
   "execution_count": null,
   "metadata": {},
   "outputs": [],
   "source": [
    "failedHere"
   ]
  },
  {
   "cell_type": "markdown",
   "metadata": {},
   "source": [
    "# save embeddings with the appropriate file name; load your dictionary in the analysis notebook"
   ]
  },
  {
   "cell_type": "code",
   "execution_count": null,
   "metadata": {
    "collapsed": true
   },
   "outputs": [],
   "source": [
    "import pickle\n",
    "\n",
    "with open('testCases_embeddingsVsComposite', 'wb') as fh:\n",
    "    \n",
    "    pickle.dump(embdsComposites, fh)  "
   ]
  }
 ],
 "metadata": {
  "kernelspec": {
   "display_name": "Python 3",
   "language": "python",
   "name": "python3"
  },
  "language_info": {
   "codemirror_mode": {
    "name": "ipython",
    "version": 3
   },
   "file_extension": ".py",
   "mimetype": "text/x-python",
   "name": "python",
   "nbconvert_exporter": "python",
   "pygments_lexer": "ipython3",
   "version": "3.6.6"
  }
 },
 "nbformat": 4,
 "nbformat_minor": 2
}
